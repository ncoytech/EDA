{
 "cells": [
  {
   "cell_type": "markdown",
   "id": "2f964c4a",
   "metadata": {},
   "source": [
    "# Eksik Veri Doldurma Yöntemleri"
   ]
  },
  {
   "cell_type": "markdown",
   "id": "cfca9737",
   "metadata": {},
   "source": [
    "Makine Öğrenmesinde veri temizliği önemlidir. Algoritmaların çoğu eksik veriye karşı hassastır, eksik veriyle çalışmak yanlı ve yanlış sonuçlar elde etmemize sebep olur.\n"
   ]
  },
  {
   "cell_type": "markdown",
   "id": "d676df58",
   "metadata": {},
   "source": [
    "pandas kütüphanesindeki isna() fonksiyonu verisetimizdeki NaN değerleri bulmamızı sağlar. Fonksiyon, boş olan değerlere True(1), diğerlerine False(0) atar. Böylece sum() fonksiyonunu ile birlikte kullanarak sütun bazında kaç tane boş değer olduğunu görebiliriz. Ard arda iki sum() fonksiyonunu kullanarak verisetindeki toplam boş değer sayısını öğrenebiliriz. "
   ]
  },
  {
   "cell_type": "code",
   "execution_count": 24,
   "id": "3478ec26",
   "metadata": {},
   "outputs": [],
   "source": [
    "import pandas as pd\n",
    "data_path = \"D:\\\\VeriAnaliziKitabı\\\\Bölüm1\\\\NBA_Dataset.csv\"\n",
    "df = pd.read_csv(data_path)"
   ]
  },
  {
   "cell_type": "code",
   "execution_count": 25,
   "id": "c0967cfa",
   "metadata": {},
   "outputs": [],
   "source": [
    "ncounts=pd.DataFrame([df.isna().sum()]).T\n"
   ]
  },
  {
   "cell_type": "code",
   "execution_count": 26,
   "id": "bdc1da20",
   "metadata": {},
   "outputs": [
    {
     "data": {
      "text/html": [
       "<div>\n",
       "<style scoped>\n",
       "    .dataframe tbody tr th:only-of-type {\n",
       "        vertical-align: middle;\n",
       "    }\n",
       "\n",
       "    .dataframe tbody tr th {\n",
       "        vertical-align: top;\n",
       "    }\n",
       "\n",
       "    .dataframe thead th {\n",
       "        text-align: right;\n",
       "    }\n",
       "</style>\n",
       "<table border=\"1\" class=\"dataframe\">\n",
       "  <thead>\n",
       "    <tr style=\"text-align: right;\">\n",
       "      <th></th>\n",
       "      <th>0</th>\n",
       "    </tr>\n",
       "  </thead>\n",
       "  <tbody>\n",
       "    <tr>\n",
       "      <th>Team</th>\n",
       "      <td>0</td>\n",
       "    </tr>\n",
       "    <tr>\n",
       "      <th>Points_Scored</th>\n",
       "      <td>0</td>\n",
       "    </tr>\n",
       "    <tr>\n",
       "      <th>Weightlifting_Sessions_Average</th>\n",
       "      <td>9</td>\n",
       "    </tr>\n",
       "    <tr>\n",
       "      <th>Yoga_Sessions_Average</th>\n",
       "      <td>20</td>\n",
       "    </tr>\n",
       "    <tr>\n",
       "      <th>Laps_Run_Per_Practice_Average</th>\n",
       "      <td>14</td>\n",
       "    </tr>\n",
       "    <tr>\n",
       "      <th>Water_Intake</th>\n",
       "      <td>14</td>\n",
       "    </tr>\n",
       "    <tr>\n",
       "      <th>Players_Absent_For_Sessions</th>\n",
       "      <td>29</td>\n",
       "    </tr>\n",
       "  </tbody>\n",
       "</table>\n",
       "</div>"
      ],
      "text/plain": [
       "                                 0\n",
       "Team                             0\n",
       "Points_Scored                    0\n",
       "Weightlifting_Sessions_Average   9\n",
       "Yoga_Sessions_Average           20\n",
       "Laps_Run_Per_Practice_Average   14\n",
       "Water_Intake                    14\n",
       "Players_Absent_For_Sessions     29"
      ]
     },
     "execution_count": 26,
     "metadata": {},
     "output_type": "execute_result"
    }
   ],
   "source": [
    "ncounts=ncounts.rename(columns={1:'data_missing'})\n",
    "ncounts"
   ]
  },
  {
   "cell_type": "code",
   "execution_count": 27,
   "id": "6e44077f",
   "metadata": {},
   "outputs": [
    {
     "data": {
      "text/plain": [
       "86"
      ]
     },
     "execution_count": 27,
     "metadata": {},
     "output_type": "execute_result"
    }
   ],
   "source": [
    "df.isna().sum().sum()"
   ]
  },
  {
   "cell_type": "markdown",
   "id": "dd6f1f3c",
   "metadata": {},
   "source": [
    "Verisetindeki boş değerli satırları sildiğimizi düşünürsek; 62 satır veri kaybederiz. Sütun bazında silersek 5 sütun veri kaybederiz.Dolayısıyla verileri yoketmek doğru bir yöntem değildir. "
   ]
  },
  {
   "cell_type": "code",
   "execution_count": 28,
   "id": "21320e30",
   "metadata": {},
   "outputs": [
    {
     "data": {
      "text/plain": [
       "((159, 7), (97, 7))"
      ]
     },
     "execution_count": 28,
     "metadata": {},
     "output_type": "execute_result"
    }
   ],
   "source": [
    "df.shape, df.dropna(axis=0).shape"
   ]
  },
  {
   "cell_type": "code",
   "execution_count": 29,
   "id": "f92b5bd8",
   "metadata": {},
   "outputs": [
    {
     "data": {
      "text/plain": [
       "((159, 7), (159, 2))"
      ]
     },
     "execution_count": 29,
     "metadata": {},
     "output_type": "execute_result"
    }
   ],
   "source": [
    "df.shape, df.dropna(axis=1).shape"
   ]
  },
  {
   "cell_type": "markdown",
   "id": "987a33bb",
   "metadata": {},
   "source": [
    "##  Pandas ile Veri Düzeltme ##"
   ]
  },
  {
   "cell_type": "markdown",
   "id": "4c39f64a",
   "metadata": {},
   "source": [
    "Pandas, boş veri üç şekilde doldurabilir.\n",
    "ffill bir sonraki değer ile, bfill ise bir önceki değer ile doldurur. groupby daha gelişmiş bir tekniktir. Boş olan veriyi, kendisiyle aynı gruptan olan verilere dayanarak doldurur."
   ]
  },
  {
   "cell_type": "code",
   "execution_count": 20,
   "id": "5b463691",
   "metadata": {},
   "outputs": [
    {
     "data": {
      "text/plain": [
       "0      23.0\n",
       "1      24.0\n",
       "2      24.0\n",
       "3      26.0\n",
       "4      27.0\n",
       "       ... \n",
       "154    12.0\n",
       "155    12.0\n",
       "156    12.0\n",
       "157    13.0\n",
       "158    14.0\n",
       "Name: WL, Length: 159, dtype: float64"
      ]
     },
     "execution_count": 20,
     "metadata": {},
     "output_type": "execute_result"
    }
   ],
   "source": [
    "#rename komutu ile uzun olan sütun isimlerini daha kısa isimlendirebiliriz.\n",
    "df = df.rename(columns={\"Weightlifting_Sessions_Average\":\"WL\",\"Water_Intake\":\"WI\",\"Yoga_Sessions_Average\":\"Yoga\",\"Laps_Run_Per_Practice_Average\":\"Laps\",\"Players_Absent_For_Sessions\":\"PAFS\"})\n",
    "#Belirli bir değerle boş değerler doldurulabilir.\n",
    "df[\"WL\"].fillna(-1)"
   ]
  },
  {
   "cell_type": "markdown",
   "id": "ac90aad0",
   "metadata": {},
   "source": [
    "WL sütununun ortalama veya medyan değerleri ile veya belirli bir değrle eksik değerleri doldurmamız mümkündür. Boş değerin bulunduğu satırdaki takıma ait ortalama ile eksik değeri doldurmak daha uygun bir çözümdür."
   ]
  },
  {
   "cell_type": "code",
   "execution_count": 16,
   "id": "d14d4465",
   "metadata": {},
   "outputs": [],
   "source": [
    "#Groupby team\n",
    "mean_WL=df.groupby(\"Team\")['WL'].mean().to_dict()"
   ]
  },
  {
   "cell_type": "code",
   "execution_count": 17,
   "id": "805702e6",
   "metadata": {},
   "outputs": [
    {
     "data": {
      "text/plain": [
       "{'Bulls': 11.214285714285714,\n",
       " 'Clippers': 29.0,\n",
       " 'Lakers': 23173.645833333332,\n",
       " 'Porcupines': 42.529411764705884,\n",
       " 'Trailblazers': 25.425925925925924,\n",
       " 'Warriors': 18.727272727272727}"
      ]
     },
     "execution_count": 17,
     "metadata": {},
     "output_type": "execute_result"
    }
   ],
   "source": [
    "mean_WL"
   ]
  },
  {
   "cell_type": "code",
   "execution_count": 18,
   "id": "241fe495",
   "metadata": {},
   "outputs": [],
   "source": [
    "for index, row in df.iterrows():\n",
    "    team = row['Team']\n",
    "    if pd.isna(row['WL']):\n",
    "        mean_value = mean_WL.get(team)\n",
    "        df.at[index, 'WL'] = mean_value"
   ]
  },
  {
   "cell_type": "markdown",
   "id": "8fe51932",
   "metadata": {},
   "source": [
    "Satır satır gezerek boş değerlere takımın ortalama değerini atayabiliriz. Yukarıdaki kodu tek satırla lambda  ve transform fonksiyonları kullanarak da yazabiliriz."
   ]
  },
  {
   "cell_type": "code",
   "execution_count": 19,
   "id": "9c7e7090",
   "metadata": {},
   "outputs": [],
   "source": [
    "df['WL']=df.groupby('Team')['WL'].transform(lambda x:x.fillna(x.mean()))"
   ]
  },
  {
   "cell_type": "markdown",
   "id": "ffbcb0f9",
   "metadata": {},
   "source": [
    "## Sklearn ile Eksik Veri Doldurma ##"
   ]
  },
  {
   "cell_type": "markdown",
   "id": "a317bc63",
   "metadata": {},
   "source": [
    "scikit-learn kütüphanesindeki teknikeri kullanarak eksik verileri doldurmak mümkündür. En çok kullanılan teknikler şöyledir.\n",
    "\n",
    "* SimpleImputer: Bu teknik ortalama, ortanca veya en sık kullanılan değerler ile boş değerleri doldurur.\n",
    "\n",
    "* IterativeImputer: Öznitelikler arasında yüksek korelasyon olduğunda; adım adım eksik verileri doldurur.\n",
    "\n",
    "* KNN imputation : Eksik veriyi belirlenen k değeri uzaklığındaki komşularının ortalama değeri ile doldurur. Bu tekniğin avantajı, makine öğrenmesi algoritmaları için önemli olan verideki korelasyonları korumasıdır. \n",
    "\n",
    "Özetle, scikit-learn kütüphenesi güçlü ve zayıf yönleri olan teknikler sunar, verisetine ve probleme uygun olan teknik seçilmelidir."
   ]
  },
  {
   "cell_type": "code",
   "execution_count": 21,
   "id": "23c50a17",
   "metadata": {},
   "outputs": [
    {
     "data": {
      "text/html": [
       "<div>\n",
       "<style scoped>\n",
       "    .dataframe tbody tr th:only-of-type {\n",
       "        vertical-align: middle;\n",
       "    }\n",
       "\n",
       "    .dataframe tbody tr th {\n",
       "        vertical-align: top;\n",
       "    }\n",
       "\n",
       "    .dataframe thead th {\n",
       "        text-align: right;\n",
       "    }\n",
       "</style>\n",
       "<table border=\"1\" class=\"dataframe\">\n",
       "  <thead>\n",
       "    <tr style=\"text-align: right;\">\n",
       "      <th></th>\n",
       "      <th>WL</th>\n",
       "      <th>Yoga</th>\n",
       "      <th>Laps</th>\n",
       "      <th>WI</th>\n",
       "      <th>PAFS</th>\n",
       "    </tr>\n",
       "  </thead>\n",
       "  <tbody>\n",
       "    <tr>\n",
       "      <th>0</th>\n",
       "      <td>23.0</td>\n",
       "      <td>25.000000</td>\n",
       "      <td>30.0</td>\n",
       "      <td>5.0</td>\n",
       "      <td>4.000000</td>\n",
       "    </tr>\n",
       "    <tr>\n",
       "      <th>1</th>\n",
       "      <td>24.0</td>\n",
       "      <td>26.000000</td>\n",
       "      <td>31.0</td>\n",
       "      <td>5.0</td>\n",
       "      <td>8.000000</td>\n",
       "    </tr>\n",
       "    <tr>\n",
       "      <th>2</th>\n",
       "      <td>24.0</td>\n",
       "      <td>27.000000</td>\n",
       "      <td>31.0</td>\n",
       "      <td>5.0</td>\n",
       "      <td>7.000000</td>\n",
       "    </tr>\n",
       "    <tr>\n",
       "      <th>3</th>\n",
       "      <td>26.0</td>\n",
       "      <td>29.000000</td>\n",
       "      <td>34.0</td>\n",
       "      <td>5.0</td>\n",
       "      <td>1.000000</td>\n",
       "    </tr>\n",
       "    <tr>\n",
       "      <th>4</th>\n",
       "      <td>27.0</td>\n",
       "      <td>21.690647</td>\n",
       "      <td>34.0</td>\n",
       "      <td>5.0</td>\n",
       "      <td>6.000000</td>\n",
       "    </tr>\n",
       "    <tr>\n",
       "      <th>...</th>\n",
       "      <td>...</td>\n",
       "      <td>...</td>\n",
       "      <td>...</td>\n",
       "      <td>...</td>\n",
       "      <td>...</td>\n",
       "    </tr>\n",
       "    <tr>\n",
       "      <th>154</th>\n",
       "      <td>12.0</td>\n",
       "      <td>12.000000</td>\n",
       "      <td>13.0</td>\n",
       "      <td>1.0</td>\n",
       "      <td>4.415385</td>\n",
       "    </tr>\n",
       "    <tr>\n",
       "      <th>155</th>\n",
       "      <td>12.0</td>\n",
       "      <td>12.000000</td>\n",
       "      <td>14.0</td>\n",
       "      <td>1.0</td>\n",
       "      <td>4.415385</td>\n",
       "    </tr>\n",
       "    <tr>\n",
       "      <th>156</th>\n",
       "      <td>12.0</td>\n",
       "      <td>13.000000</td>\n",
       "      <td>14.0</td>\n",
       "      <td>1.0</td>\n",
       "      <td>4.415385</td>\n",
       "    </tr>\n",
       "    <tr>\n",
       "      <th>157</th>\n",
       "      <td>13.0</td>\n",
       "      <td>14.000000</td>\n",
       "      <td>15.0</td>\n",
       "      <td>1.0</td>\n",
       "      <td>6.000000</td>\n",
       "    </tr>\n",
       "    <tr>\n",
       "      <th>158</th>\n",
       "      <td>14.0</td>\n",
       "      <td>15.000000</td>\n",
       "      <td>16.0</td>\n",
       "      <td>1.0</td>\n",
       "      <td>5.000000</td>\n",
       "    </tr>\n",
       "  </tbody>\n",
       "</table>\n",
       "<p>159 rows × 5 columns</p>\n",
       "</div>"
      ],
      "text/plain": [
       "       WL       Yoga  Laps   WI      PAFS\n",
       "0    23.0  25.000000  30.0  5.0  4.000000\n",
       "1    24.0  26.000000  31.0  5.0  8.000000\n",
       "2    24.0  27.000000  31.0  5.0  7.000000\n",
       "3    26.0  29.000000  34.0  5.0  1.000000\n",
       "4    27.0  21.690647  34.0  5.0  6.000000\n",
       "..    ...        ...   ...  ...       ...\n",
       "154  12.0  12.000000  13.0  1.0  4.415385\n",
       "155  12.0  12.000000  14.0  1.0  4.415385\n",
       "156  12.0  13.000000  14.0  1.0  4.415385\n",
       "157  13.0  14.000000  15.0  1.0  6.000000\n",
       "158  14.0  15.000000  16.0  1.0  5.000000\n",
       "\n",
       "[159 rows x 5 columns]"
      ]
     },
     "execution_count": 21,
     "metadata": {},
     "output_type": "execute_result"
    }
   ],
   "source": [
    "# 1 Simple Imputer\n",
    "\n",
    "Features=['WL','Yoga','Laps','WI','PAFS']\n",
    "\n",
    "from sklearn.impute import SimpleImputer\n",
    "impt=SimpleImputer(strategy='mean')\n",
    "\n",
    "#Fit & Transform\n",
    "\n",
    "si_impt=impt.fit_transform(df[Features])\n",
    "si_impt_df=pd.DataFrame(si_impt,columns=Features)\n",
    "\n",
    "si_impt_df"
   ]
  },
  {
   "cell_type": "code",
   "execution_count": 23,
   "id": "f0453414",
   "metadata": {},
   "outputs": [
    {
     "data": {
      "text/html": [
       "<div>\n",
       "<style scoped>\n",
       "    .dataframe tbody tr th:only-of-type {\n",
       "        vertical-align: middle;\n",
       "    }\n",
       "\n",
       "    .dataframe tbody tr th {\n",
       "        vertical-align: top;\n",
       "    }\n",
       "\n",
       "    .dataframe thead th {\n",
       "        text-align: right;\n",
       "    }\n",
       "</style>\n",
       "<table border=\"1\" class=\"dataframe\">\n",
       "  <thead>\n",
       "    <tr style=\"text-align: right;\">\n",
       "      <th></th>\n",
       "      <th>WL</th>\n",
       "      <th>Yoga</th>\n",
       "      <th>Laps</th>\n",
       "      <th>WI</th>\n",
       "      <th>PAFS</th>\n",
       "    </tr>\n",
       "  </thead>\n",
       "  <tbody>\n",
       "    <tr>\n",
       "      <th>0</th>\n",
       "      <td>23.0</td>\n",
       "      <td>25.000000</td>\n",
       "      <td>30.0</td>\n",
       "      <td>5.0</td>\n",
       "      <td>4.000000</td>\n",
       "    </tr>\n",
       "    <tr>\n",
       "      <th>1</th>\n",
       "      <td>24.0</td>\n",
       "      <td>26.000000</td>\n",
       "      <td>31.0</td>\n",
       "      <td>5.0</td>\n",
       "      <td>8.000000</td>\n",
       "    </tr>\n",
       "    <tr>\n",
       "      <th>2</th>\n",
       "      <td>24.0</td>\n",
       "      <td>27.000000</td>\n",
       "      <td>31.0</td>\n",
       "      <td>5.0</td>\n",
       "      <td>7.000000</td>\n",
       "    </tr>\n",
       "    <tr>\n",
       "      <th>3</th>\n",
       "      <td>26.0</td>\n",
       "      <td>29.000000</td>\n",
       "      <td>34.0</td>\n",
       "      <td>5.0</td>\n",
       "      <td>1.000000</td>\n",
       "    </tr>\n",
       "    <tr>\n",
       "      <th>4</th>\n",
       "      <td>27.0</td>\n",
       "      <td>22.666667</td>\n",
       "      <td>34.0</td>\n",
       "      <td>5.0</td>\n",
       "      <td>6.000000</td>\n",
       "    </tr>\n",
       "    <tr>\n",
       "      <th>...</th>\n",
       "      <td>...</td>\n",
       "      <td>...</td>\n",
       "      <td>...</td>\n",
       "      <td>...</td>\n",
       "      <td>...</td>\n",
       "    </tr>\n",
       "    <tr>\n",
       "      <th>154</th>\n",
       "      <td>12.0</td>\n",
       "      <td>12.000000</td>\n",
       "      <td>13.0</td>\n",
       "      <td>1.0</td>\n",
       "      <td>4.666667</td>\n",
       "    </tr>\n",
       "    <tr>\n",
       "      <th>155</th>\n",
       "      <td>12.0</td>\n",
       "      <td>12.000000</td>\n",
       "      <td>14.0</td>\n",
       "      <td>1.0</td>\n",
       "      <td>5.333333</td>\n",
       "    </tr>\n",
       "    <tr>\n",
       "      <th>156</th>\n",
       "      <td>12.0</td>\n",
       "      <td>13.000000</td>\n",
       "      <td>14.0</td>\n",
       "      <td>1.0</td>\n",
       "      <td>6.000000</td>\n",
       "    </tr>\n",
       "    <tr>\n",
       "      <th>157</th>\n",
       "      <td>13.0</td>\n",
       "      <td>14.000000</td>\n",
       "      <td>15.0</td>\n",
       "      <td>1.0</td>\n",
       "      <td>6.000000</td>\n",
       "    </tr>\n",
       "    <tr>\n",
       "      <th>158</th>\n",
       "      <td>14.0</td>\n",
       "      <td>15.000000</td>\n",
       "      <td>16.0</td>\n",
       "      <td>1.0</td>\n",
       "      <td>5.000000</td>\n",
       "    </tr>\n",
       "  </tbody>\n",
       "</table>\n",
       "<p>159 rows × 5 columns</p>\n",
       "</div>"
      ],
      "text/plain": [
       "       WL       Yoga  Laps   WI      PAFS\n",
       "0    23.0  25.000000  30.0  5.0  4.000000\n",
       "1    24.0  26.000000  31.0  5.0  8.000000\n",
       "2    24.0  27.000000  31.0  5.0  7.000000\n",
       "3    26.0  29.000000  34.0  5.0  1.000000\n",
       "4    27.0  22.666667  34.0  5.0  6.000000\n",
       "..    ...        ...   ...  ...       ...\n",
       "154  12.0  12.000000  13.0  1.0  4.666667\n",
       "155  12.0  12.000000  14.0  1.0  5.333333\n",
       "156  12.0  13.000000  14.0  1.0  6.000000\n",
       "157  13.0  14.000000  15.0  1.0  6.000000\n",
       "158  14.0  15.000000  16.0  1.0  5.000000\n",
       "\n",
       "[159 rows x 5 columns]"
      ]
     },
     "execution_count": 23,
     "metadata": {},
     "output_type": "execute_result"
    }
   ],
   "source": [
    "# KNN Imputer \n",
    "\n",
    "from sklearn.impute import KNNImputer\n",
    "\n",
    "KNN=KNNImputer(n_neighbors=3)\n",
    "\n",
    "#Fit & Transform\n",
    "\n",
    "KNN_impt=KNN.fit_transform(df[Features])\n",
    "\n",
    "KNN_impt_df=pd.DataFrame(KNN_impt,columns=Features)\n",
    "\n",
    "KNN_impt_df"
   ]
  },
  {
   "cell_type": "code",
   "execution_count": null,
   "id": "d438ff85",
   "metadata": {},
   "outputs": [],
   "source": []
  }
 ],
 "metadata": {
  "kernelspec": {
   "display_name": "Python 3 (ipykernel)",
   "language": "python",
   "name": "python3"
  },
  "language_info": {
   "codemirror_mode": {
    "name": "ipython",
    "version": 3
   },
   "file_extension": ".py",
   "mimetype": "text/x-python",
   "name": "python",
   "nbconvert_exporter": "python",
   "pygments_lexer": "ipython3",
   "version": "3.11.5"
  }
 },
 "nbformat": 4,
 "nbformat_minor": 5
}
